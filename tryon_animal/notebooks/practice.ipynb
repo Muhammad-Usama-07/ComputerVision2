{
 "cells": [
  {
   "cell_type": "code",
   "execution_count": 7,
   "id": "4b63d724-fb02-47b3-bd0a-0a827c5a171b",
   "metadata": {},
   "outputs": [
    {
     "name": "stdout",
     "output_type": "stream",
     "text": [
      "Clicked at (62, 477)\n",
      "Clicked at (57, 184)\n",
      "Clicked at (409, 186)\n",
      "Clicked at (418, 481)\n"
     ]
    },
    {
     "ename": "KeyboardInterrupt",
     "evalue": "",
     "output_type": "error",
     "traceback": [
      "\u001b[1;31m---------------------------------------------------------------------------\u001b[0m",
      "\u001b[1;31mKeyboardInterrupt\u001b[0m                         Traceback (most recent call last)",
      "Cell \u001b[1;32mIn[7], line 33\u001b[0m\n\u001b[0;32m     31\u001b[0m \u001b[38;5;66;03m# Wait until the 'ESC' key is pressed to exit\u001b[39;00m\n\u001b[0;32m     32\u001b[0m \u001b[38;5;28;01mwhile\u001b[39;00m \u001b[38;5;28;01mTrue\u001b[39;00m:\n\u001b[1;32m---> 33\u001b[0m     key \u001b[38;5;241m=\u001b[39m \u001b[43mcv2\u001b[49m\u001b[38;5;241;43m.\u001b[39;49m\u001b[43mwaitKey\u001b[49m\u001b[43m(\u001b[49m\u001b[38;5;241;43m1\u001b[39;49m\u001b[43m)\u001b[49m\n\u001b[0;32m     34\u001b[0m     \u001b[38;5;28;01mif\u001b[39;00m key \u001b[38;5;241m==\u001b[39m \u001b[38;5;241m27\u001b[39m:  \u001b[38;5;66;03m# ESC key\u001b[39;00m\n\u001b[0;32m     35\u001b[0m         \u001b[38;5;28;01mbreak\u001b[39;00m\n",
      "\u001b[1;31mKeyboardInterrupt\u001b[0m: "
     ]
    }
   ],
   "source": [
    "import cv2\n",
    "import numpy as np\n",
    "\n",
    "# List to store clicked points\n",
    "clicked_points = []\n",
    "\n",
    "# Callback function for mouse events\n",
    "def click_event(event, x, y, flags, param):\n",
    "    global clicked_points\n",
    "\n",
    "    if event == cv2.EVENT_LBUTTONDOWN:\n",
    "        # Draw a point where the click occurred\n",
    "        cv2.circle(img, (x, y), 5, (0, 255, 0), -1)\n",
    "        cv2.imshow(\"Image\", img)\n",
    "\n",
    "        # Print the coordinates of the clicked point\n",
    "        print(f\"Clicked at ({x}, {y})\")\n",
    "\n",
    "        # Store the clicked point in the list\n",
    "        clicked_points.append((x, y))\n",
    "\n",
    "# Load an existing image\n",
    "img = cv2.imread(\"animal-tryon/accessories/_500x500_-removebg-preview.png\")\n",
    "\n",
    "# Create a window and display the image\n",
    "cv2.imshow(\"Image\", img)\n",
    "\n",
    "# Set the callback function for mouse events\n",
    "cv2.setMouseCallback(\"Image\", click_event)\n",
    "\n",
    "# Wait until the 'ESC' key is pressed to exit\n",
    "while True:\n",
    "    key = cv2.waitKey(1)\n",
    "    if key == 27:  # ESC key\n",
    "        break\n",
    "\n",
    "# Print all clicked points\n",
    "print(\"\\nAll Clicked Points:\")\n",
    "for point in clicked_points:\n",
    "    print(point)\n",
    "\n",
    "# Destroy all OpenCV windows\n",
    "cv2.destroyAllWindows()\n"
   ]
  },
  {
   "cell_type": "markdown",
   "id": "1cefcee3-0e53-496b-8eae-d1e7206c0a82",
   "metadata": {},
   "source": [
    "    --- dog keypoint ---\n",
    "    left-bottom: Clicked at (304, 147)\n",
    "    left-top: Clicked at (294, 73)\n",
    "    right-top: Clicked at (450, 94)\n",
    "    right-bottom: Clicked at (423, 164)"
   ]
  },
  {
   "cell_type": "markdown",
   "id": "1f8c1a93-fac1-469b-ad5b-5febdb972a5b",
   "metadata": {},
   "source": [
    "    --- Cap keypoint ---\n",
    "    left-bottom: Clicked at (5, 264)\n",
    "    left-top: Clicked at (2, 0)\n",
    "    right-top: Clicked at (629, 2)\n",
    "    right-bottom: Clicked at (631, 264)\n",
    "\n",
    "    --- shirt keypoint ---\n",
    "    left-bottom: Clicked at (62, 477)\r",
    "    left-top: \n",
    "Clicked at (57, 184\n",
    "    right-top: \r\n",
    "Clicked at (409, 186    right-bottom: )\r\n",
    "Clicked at (418, 481)"
   ]
  },
  {
   "cell_type": "code",
   "execution_count": null,
   "id": "244b1529-b91c-4dab-94ec-21acbed2652e",
   "metadata": {},
   "outputs": [],
   "source": [
    "import cv2\n",
    "from operator import itemgetter\n",
    "from glob import glob\n",
    "import matplotlib.pyplot as plt\n",
    "paper = cv2.imread('animal-tryon/input/istockphoto-509092254-612x612.jpg')\n",
    "# Coordinates that you want to Perspective Transform\n",
    "pts1 = np.float32([[219,209],[612,8],[380,493],[785,271]])\n",
    "# Size of the Transformed Image\n",
    "pts2 = np.float32([[0,0],[500,0],[0,400],[500,400]])\n",
    "for val in pt1:\n",
    "    cv2.circle(paper,(val[0],val[1]),5,(0,255,0),-1)\n",
    "M = cv2.getPerspectiveTransform(pt1,pts2)\n",
    "dst = cv2.warpPerspective(paper,M,(500,400))\n",
    "plt.imshow(dst)"
   ]
  },
  {
   "cell_type": "code",
   "execution_count": 3,
   "id": "cef62b3e-1816-4413-99bd-74dd635be400",
   "metadata": {},
   "outputs": [],
   "source": [
    "my_list = []\n",
    "\n",
    "# define the index and the value to append\n",
    "index = 0\n",
    "value = \"hesssllo\"\n",
    "\n",
    "my_list.insert(index, value)"
   ]
  },
  {
   "cell_type": "code",
   "execution_count": 4,
   "id": "ce1c3c18-8a68-49a6-921b-815a9d0eb542",
   "metadata": {},
   "outputs": [
    {
     "data": {
      "text/plain": [
       "['hesssllo']"
      ]
     },
     "execution_count": 4,
     "metadata": {},
     "output_type": "execute_result"
    }
   ],
   "source": [
    "my_list"
   ]
  },
  {
   "cell_type": "code",
   "execution_count": 15,
   "id": "60a34b25-e328-4e52-949d-297904ddaa41",
   "metadata": {},
   "outputs": [],
   "source": [
    "my_list = []\n",
    "\n"
   ]
  },
  {
   "cell_type": "code",
   "execution_count": 37,
   "id": "386b405a-21a2-4280-85c7-400eacb7b02e",
   "metadata": {},
   "outputs": [
    {
     "name": "stdout",
     "output_type": "stream",
     "text": [
      "------------ [[423, 164, 14], [304, 147, 15], [450, 94, 18], [294, 73, 19]]\n",
      "[[294, 73, 19], [450, 94, 18], [304, 147, 15], [423, 164, 14]]\n"
     ]
    }
   ],
   "source": [
    "original_list = [[432, 906, 0], [402, 794, 1], [391, 613, 2], [202, 895, 6], [224, 785, 7], [227, 606, 8], [423, 164, 14], [304, 147, 15], [343, 322, 16], [341, 378, 17], [450, 94, 18], [294, 73, 19]]\n",
    "\n",
    "head_coordinates = [item for item in original_list if item[2] in [18, 14, 15, 19]]\n",
    "print('------------', head_coordinates)\n",
    "head_coordinates = sorted(head_coordinates, key=lambda x: x[2], reverse=True)\n",
    "print(head_coordinates)\n"
   ]
  },
  {
   "cell_type": "code",
   "execution_count": 38,
   "id": "16c2e003-29f8-42a0-a377-9a1f55f18d35",
   "metadata": {},
   "outputs": [
    {
     "name": "stdout",
     "output_type": "stream",
     "text": [
      "[[294, 73], [450, 94], [304, 147], [423, 164]]\n"
     ]
    }
   ],
   "source": [
    "original_list = [[294, 73, 19], [450, 94, 18], [304, 147, 15], [423, 164, 14]]\n",
    "\n",
    "modified_list = [[item[0], item[1]] for item in original_list]\n",
    "\n",
    "print(modified_list)\n"
   ]
  },
  {
   "cell_type": "code",
   "execution_count": null,
   "id": "0fd750ab-a24f-4b30-a5d9-471950271a55",
   "metadata": {},
   "outputs": [],
   "source": []
  },
  {
   "cell_type": "code",
   "execution_count": 36,
   "id": "ea4cf9a7-d5f3-449d-9578-b76f7d8b76e7",
   "metadata": {},
   "outputs": [
    {
     "name": "stdout",
     "output_type": "stream",
     "text": [
      "[[294, 73, 19], [450, 94, 18], [304, 147, 15], [423, 164, 14]]\n"
     ]
    }
   ],
   "source": [
    "original_list = [[423, 164, 14], [304, 147, 15], [450, 94, 18], [294, 73, 19]]\n",
    "\n",
    "sorted_list = sorted(original_list, key=lambda x: x[2], reverse=True)\n",
    "\n",
    "print(sorted_list)\n"
   ]
  },
  {
   "cell_type": "code",
   "execution_count": 21,
   "id": "76c5b6c2-2103-41a0-917d-77392f0c7ffe",
   "metadata": {},
   "outputs": [
    {
     "name": "stdout",
     "output_type": "stream",
     "text": [
      "[19, 18, 15, 14]\n"
     ]
    }
   ],
   "source": [
    "# Your original list\n",
    "original_list = [18, 15, 14, 19]\n",
    "\n",
    "# The order you want\n",
    "desired_order = [19, 18, 15, 14]\n",
    "\n",
    "# Create a new list in the desired order\n",
    "new_list = [item for item in desired_order if item in original_list]\n",
    "\n",
    "print(new_list)  # Prints: [19, 18, 15, 14]\n"
   ]
  },
  {
   "cell_type": "code",
   "execution_count": 24,
   "id": "6006420c-f7f7-43bb-b660-3d02e8c611d4",
   "metadata": {},
   "outputs": [
    {
     "name": "stdout",
     "output_type": "stream",
     "text": [
      "[[294, 73, 19], [450, 94, 18], [341, 378, 17], [343, 322, 16], [304, 147, 15], [423, 164, 14], [227, 606, 8], [224, 785, 7], [202, 895, 6], [391, 613, 2], [402, 794, 1], [432, 906, 0]]\n"
     ]
    }
   ],
   "source": [
    "original_list = [[432, 906, 0], [402, 794, 1], [391, 613, 2], [202, 895, 6], [224, 785, 7], [227, 606, 8], [423, 164, 14], [304, 147, 15], [343, 322, 16], [341, 378, 17], [450, 94, 18], [294, 73, 19]]\n",
    "\n",
    "# Sorting the list based on the third element of each sublist\n",
    "sorted_list = sorted(original_list, key=lambda x: x[2])\n",
    "\n",
    "# Reversing the sorted list to get the desired order\n",
    "result_list = list(reversed(sorted_list))\n",
    "\n",
    "print(result_list)\n"
   ]
  },
  {
   "cell_type": "code",
   "execution_count": 27,
   "id": "34dc7d70-5ca9-4be8-b245-5910c1678381",
   "metadata": {},
   "outputs": [
    {
     "name": "stdout",
     "output_type": "stream",
     "text": [
      "[[423, 164, 14], [304, 147, 15], [450, 94, 18], [294, 73, 19]]\n",
      "[[294, 73, 19], [450, 94, 18], [304, 147, 15], [423, 164, 14]]\n"
     ]
    }
   ],
   "source": [
    "# Your original list\n",
    "original_list = [[432, 906, 0], [402, 794, 1], [391, 613, 2], [202, 895, 6], [224, 785, 7], [227, 606, 8], [423, 164, 14], [304, 147, 15], [343, 322, 16], [341, 378, 17], [450, 94, 18], [294, 73, 19]]\n",
    "\n",
    "# The list you want\n",
    "wanted_list = [[423, 164, 14], [304, 147, 15], [294, 73, 19], [450, 94, 18]]\n",
    "\n",
    "# The order you want\n",
    "order = [[294, 73, 19], [450, 94, 18], [304, 147, 15], [423, 164, 14]]\n",
    "\n",
    "# Filter the original list to only include the elements in the wanted list\n",
    "filtered_list = [i for i in original_list if i in wanted_list]\n",
    "print(filtered_list)\n",
    "\n",
    "\n",
    "# Sort the filtered list based on the order list\n",
    "sorted_list = sorted(filtered_list, key=lambda x: order.index(x))\n",
    "\n",
    "print(sorted_list)"
   ]
  },
  {
   "cell_type": "code",
   "execution_count": 30,
   "id": "eb4da67c-f3b1-4861-b872-c3420d3d755d",
   "metadata": {},
   "outputs": [
    {
     "name": "stdout",
     "output_type": "stream",
     "text": [
      "[[294, 73, 19], [450, 94, 18], [304, 147, 15], [423, 164, 14]]\n"
     ]
    }
   ],
   "source": [
    "print(sorted(wanted_list, key=lambda x: order.index(x)))"
   ]
  },
  {
   "cell_type": "markdown",
   "id": "69dd6766-570c-4a0c-a346-ebc1135260fd",
   "metadata": {},
   "source": [
    "# save all images of videos"
   ]
  },
  {
   "cell_type": "code",
   "execution_count": 2,
   "id": "1d465581-bc31-488c-98c9-bb4fb5e02384",
   "metadata": {},
   "outputs": [
    {
     "name": "stdout",
     "output_type": "stream",
     "text": [
      "171 frames saved to animal-tryon/images_data\n"
     ]
    }
   ],
   "source": [
    "import cv2\n",
    "import os\n",
    "\n",
    "# Create a directory to save images\n",
    "output_folder = 'animal-tryon/images_data'\n",
    "os.makedirs(output_folder, exist_ok=True)\n",
    "\n",
    "# Open the video file\n",
    "video_path = 'animal-tryon/input/dog_video3.mp4'\n",
    "cap = cv2.VideoCapture(video_path)\n",
    "\n",
    "# Check if the video file opened successfully\n",
    "if not cap.isOpened():\n",
    "    print(\"Error: Could not open video file.\")\n",
    "    exit()\n",
    "\n",
    "# Read and save frames\n",
    "frame_count = 0\n",
    "while True:\n",
    "    ret, frame = cap.read()\n",
    "\n",
    "    if not ret:\n",
    "        break  # Break the loop if we have reached the end of the video\n",
    "\n",
    "    # Save the frame as an image\n",
    "    frame_count += 1\n",
    "    image_path = os.path.join(output_folder, f\"frame_{frame_count}.png\")\n",
    "    cv2.imwrite(image_path, frame)\n",
    "\n",
    "    # Display the frame (optional)\n",
    "    cv2.imshow('Frame', frame)\n",
    "\n",
    "    # Break the loop if 'q' key is pressed\n",
    "    if cv2.waitKey(25) & 0xFF == ord('q'):\n",
    "        break\n",
    "\n",
    "# Release the video capture object and close windows\n",
    "cap.release()\n",
    "cv2.destroyAllWindows()\n",
    "\n",
    "print(f\"{frame_count} frames saved to {output_folder}\")\n"
   ]
  },
  {
   "cell_type": "code",
   "execution_count": 5,
   "id": "d56eb0c4-1f56-4d95-95dc-42c8db7b84b0",
   "metadata": {},
   "outputs": [
    {
     "name": "stdout",
     "output_type": "stream",
     "text": [
      "four point [[373, 181, 14], [133, 159, 15], [406, 319, 18], [81, 290, 19]]\n"
     ]
    }
   ],
   "source": [
    "filter_kpts = [[249, 646, 0], [267, 568, 1], [314, 476, 2], [154, 660, 6], [112, 573, 7], [64, 473, 8], [373, 181, 14], [133, 159, 15], [255, 341, 16], [243, 418, 17], [406, 319, 18], [81, 290, 19]]\n",
    "\n",
    "# Points to check\n",
    "points_to_check = [14, 15, 19, 18]\n",
    "\n",
    "four_point = [item for item in filter_kpts if item[2] in points_to_check]\n",
    "\n",
    "# # Check if all points exist in the third item of any list\n",
    "# all_points_exist = all(point in [sublist[2] for sublist in filter_kpts] for point in points_to_check)\n",
    "# if all_points_exist:\n",
    "#     print(\"************ All points exist.\")\n",
    "#     [item for item in filter_kpts if item[2] in points_to_check]\n",
    "# else:\n",
    "#     print('else   kkkkkkkkkkkkk')"
   ]
  },
  {
   "cell_type": "code",
   "execution_count": 9,
   "id": "6b8ee7de-fd39-4a4f-aeaa-0504de62addc",
   "metadata": {},
   "outputs": [
    {
     "data": {
      "text/plain": [
       "0"
      ]
     },
     "execution_count": 9,
     "metadata": {},
     "output_type": "execute_result"
    }
   ],
   "source": [
    "index_to_update = next(index for index, item in enumerate(filter_kpts))\n",
    "index_to_update"
   ]
  },
  {
   "cell_type": "code",
   "execution_count": 10,
   "id": "1a707f73-1e6e-4046-9e77-deed5ee6d89c",
   "metadata": {},
   "outputs": [
    {
     "data": {
      "text/plain": [
       "[81, 290, 19]"
      ]
     },
     "execution_count": 10,
     "metadata": {},
     "output_type": "execute_result"
    }
   ],
   "source": [
    "filter_kpts[-1]"
   ]
  },
  {
   "cell_type": "code",
   "execution_count": 13,
   "id": "f0da44a6-d8f5-4150-a3ee-9f6092b73fce",
   "metadata": {},
   "outputs": [
    {
     "name": "stderr",
     "output_type": "stream",
     "text": [
      "\n",
      "image 1/1 D:\\closet\\tryon\\animal-tryon\\images_data\\frame_56.png: 640x384 1 dog, 646.0ms\n",
      "Speed: 2.0ms preprocess, 646.0ms inference, 1.0ms postprocess per image at shape (1, 3, 640, 384)\n"
     ]
    },
    {
     "name": "stdout",
     "output_type": "stream",
     "text": [
      "******** old filter_kpts:  [[249, 646, 0], [267, 568, 1], [314, 476, 2], [154, 660, 6], [112, 573, 7], [64, 473, 8], [373, 181, 14], [133, 159, 15], [255, 341, 16], [243, 418, 17], [406, 319, 18], [81, 290, 19]]\n",
      "----------****** four points exits ******----------True\n",
      "************ All points exist.\n",
      ">>>>>>>>>>>>>>>> length of 18 and 14:  141.89080308462562\n",
      ">>>>>>>>>>>>>>>> length of 19 and 15:  140.9432509913121\n",
      "\n",
      "19, 15, 18, 14 origranl [[81, 290, 19], [133, 159, 15], [406, 319, 18], [373, 181, 14]]\n",
      "19, 15, 18, 14 decreamented\n",
      " [[81, 8, 19], [133, 159, 15], [406, 35, 18], [373, 181, 14]]\n",
      "******** new filter_kpts:  [[249, 646, 0], [267, 568, 1], [314, 476, 2], [154, 660, 6], [112, 573, 7], [64, 473, 8], [373, 181, 14], [133, 159, 15], [255, 341, 16], [243, 418, 17], [406, 35, 18], [81, 8, 19]]\n",
      "-------------------- head coordinates position with keypoint numbers:  [[81, 8, 19], [406, 35, 18], [133, 159, 15], [373, 181, 14]]\n",
      "-------------------- length of head coordinates position:  4\n",
      "-------------------- head coordinates position without keypoint numbers:  [[81, 23], [406, 50], [133, 174], [373, 196]]\n",
      "************* text: 19: (81, 8)\n"
     ]
    }
   ],
   "source": [
    "def draw_landmarks(image, landmarks):\n",
    "    radius = 5\n",
    "\n",
    "    # Check if image width is greater than 1000 px.\n",
    "    # To improve visualization.\n",
    "    if image.shape[1] > 1000:\n",
    "        radius = 8\n",
    "\n",
    "    for idx, kpt_data in enumerate(landmarks):\n",
    "        loc_x, loc_y = np.array(kpt_data[:2], dtype=int).tolist()\n",
    "        color_id = list(COLORS_RGB_MAP[int(kpt_data[-1])].values())[0]\n",
    "\n",
    "        cv2.circle(image,\n",
    "                   (loc_x, loc_y),\n",
    "                   radius,\n",
    "                   color=color_id[::-1],\n",
    "                   thickness=-1,\n",
    "                   lineType=cv2.LINE_AA)\n",
    "\n",
    "      # Draw keypoint number\n",
    "    font = cv2.FONT_HERSHEY_SIMPLEX\n",
    "    font_scale = 0.5\n",
    "    font_thickness = 1\n",
    "    # text = str(int(kpt_data[-1]))\n",
    "    text = f\"{int(kpt_data[-1])}: ({loc_x}, {loc_y})\"\n",
    "    text_size = cv2.getTextSize(text, font, font_scale, font_thickness)[0]\n",
    "    text_x = loc_x - text_size[0] // 2\n",
    "    text_y = loc_y - radius - 5\n",
    "    print('************* text:', text)\n",
    "    cv2.putText(image, text, (text_x, text_y), font, font_scale, color=(255, 255, 255), thickness=font_thickness)\n",
    "\n",
    "    return image\n",
    "def wear_cap(accessories_img_path,animal_image,  filter_kpts):\n",
    "    ############################### cap working ############################### \n",
    "\n",
    "    ################# Check two points (if 14 and 15 exist in the third item of each list)\n",
    "    \n",
    "    point_14_exists = any(14 == sublist[2] for sublist in filter_kpts)\n",
    "    point_15_exists = any(15 == sublist[2] for sublist in filter_kpts)\n",
    "\n",
    "\n",
    "    \n",
    "\n",
    "    ################ check four points \n",
    "\n",
    "    # Points to check\n",
    "    points_to_check = [14, 15, 19, 18]\n",
    "    \n",
    "    # Check if all points exist in the third item of any list\n",
    "    all_points_exist = all(point in [sublist[2] for sublist in filter_kpts] for point in points_to_check)\n",
    "    print(f'----------****** four points exits ******----------{all_points_exist}', )\n",
    "    if all_points_exist:\n",
    "        print(\"************ All points exist.\")\n",
    "        \n",
    "\n",
    "        ## *********** check if 19 > 15 and 18 > 14 (condition to correct image flip )\n",
    "        # get value of 19 and 15\n",
    "        point_19 = next(sublist for sublist in filter_kpts if sublist[2] == 19)\n",
    "        point_15 = next(sublist for sublist in filter_kpts if sublist[2] == 15)\n",
    "\n",
    "        if point_19[1] > point_15[1]:\n",
    "            \n",
    "            \n",
    "    \n",
    "    \n",
    "            # get value of 18 and 14\n",
    "            point_18 = next(sublist for sublist in filter_kpts if sublist[2] == 18)\n",
    "            point_14 = next(sublist for sublist in filter_kpts if sublist[2] == 14)\n",
    "\n",
    "            # Calculate the width between points 14 and 15\n",
    "            width_19_15 = np.sqrt((point_19[0] - point_15[0])**2 + (point_19[1] - point_15[1])**2)\n",
    "            \n",
    "            # Calculate the width between points 14 and 15\n",
    "            width_18_14 = np.sqrt((point_18[0] - point_14[0])**2 + (point_18[1] - point_14[1])**2)\n",
    "            \n",
    "            print('>>>>>>>>>>>>>>>> length of 18 and 14: ', width_18_14)\n",
    "            print('>>>>>>>>>>>>>>>> length of 19 and 15: ', width_19_15)\n",
    "            print('\\n19, 15, 18, 14 origranl', [point_19, point_15, point_18, point_14])\n",
    "    \n",
    "            point_19[1] = int(point_19[1] - 2 * width_19_15)\n",
    "            point_18[1] = int(point_18[1] - 2 * width_18_14)\n",
    "            \n",
    "            print('19, 15, 18, 14 decreamented\\n', [point_19, point_15, point_18, point_14])\n",
    "\n",
    "            filter_kpts[-1] = point_19 \n",
    "            filter_kpts[-2] = point_18\n",
    "        else:\n",
    "            pass\n",
    "            \n",
    "        cap = cv2.imread(accessories_img_path, cv2.IMREAD_UNCHANGED)\n",
    "        cap_h,cap_w =  cap.shape[:2]\n",
    "\n",
    "        print('******** new filter_kpts: ', filter_kpts)\n",
    "        \n",
    "        \n",
    "        head_coordinates = [item for item in filter_kpts if item[2] in points_to_check]\n",
    "        head_coordinates_position = sorted(head_coordinates, key=lambda x: x[2], reverse=True)\n",
    "        print('-------------------- head coordinates position with keypoint numbers: ', head_coordinates_position)\n",
    "        print('-------------------- length of head coordinates position: ', len(head_coordinates_position))\n",
    "        \n",
    "        head_coordinates_position = [[item[0], item[1] + inc] for item in head_coordinates_position]\n",
    "        print('-------------------- head coordinates position without keypoint numbers: ', head_coordinates_position)\n",
    "        \n",
    "        pts1=np.float32([[0,0],[cap_w,0],[0,cap_h],[cap_w,cap_h]])\n",
    "        pts2=np.float32(head_coordinates_position)\n",
    "        \n",
    "        h, mask = cv2.findHomography(pts1, pts2, cv2.RANSAC,5.0)\n",
    "    \n",
    "        height, width, channels = animal_image.shape\n",
    "        im1Reg = cv2.warpPerspective(cap, h, (width, height))\n",
    "        animal_image = cv2.cvtColor(animal_image, cv2.COLOR_BGR2RGB) \n",
    "        animal_image_result = cvzone.overlayPNG(animal_image, im1Reg, (0, 0))\n",
    "\n",
    "        check = draw_landmarks(animal_image, filter_kpts)\n",
    "        cv2.imshow(\"Original Image\", check)\n",
    "        cv2.waitKey(0)\n",
    "        cv2.destroyAllWindows()\n",
    "\n",
    "        return animal_image_result\n",
    "    \n",
    "    elif point_14_exists and point_15_exists:\n",
    "\n",
    "        \n",
    "        # get value of 14 and 15\n",
    "        point_14 = next(sublist for sublist in filter_kpts if sublist[2] == 14)\n",
    "        point_15 = next(sublist for sublist in filter_kpts if sublist[2] == 15)\n",
    "        \n",
    "        print(\"********************* Both 14 and 15 exist.\")\n",
    "        \n",
    "\n",
    "        \n",
    "        # Calculate the width between points 14 and 15\n",
    "        width_14_15 = np.sqrt((point_14[0] - point_15[0])**2 + (point_14[1] - point_15[1])**2)\n",
    "        resized_accessories_img  = resize_with_aspect_ratio(accessories_img_path, int(width_14_15))\n",
    "\n",
    "        \n",
    "        print(f\"********************* The width between points 14 and 15 is: {width_14_15}\")\n",
    "        animal_image = cv2.cvtColor(animal_image, cv2.COLOR_RGB2BGR) \n",
    "\n",
    "        print('%%%%%%%%%%% shape of png', resized_accessories_img.shape)\n",
    "        \n",
    "\n",
    "        percentage_to_subtract = 38 \n",
    "        offset_y = int(percentage_to_subtract / 100 * resized_accessories_img.shape[1])\n",
    "        \n",
    "        animal_image_result = cvzone.overlayPNG(animal_image, resized_accessories_img, (point_15[0], point_15[1] - offset_y ))\n",
    "\n",
    "        \n",
    "        # cv2.imshow(\"Original Image\", animal_image_result)\n",
    "        # cv2.waitKey(0)\n",
    "        # cv2.destroyAllWindows()\n",
    "\n",
    "        return animal_image_result\n",
    "    ################# Check two points code end\n",
    "    else:\n",
    "        missing_points = [point for point in points_to_check if point not in [sublist[2] for sublist in filter_kpts]]\n",
    "        print(f\" ************The following points are missing: {missing_points}\")\n",
    "    ############################### cap working end ###############################\n",
    "\n",
    "\n",
    "\n",
    "from ultralytics import YOLO\n",
    "import cv2\n",
    "from matplotlib import pyplot as plt\n",
    "import os\n",
    "import numpy as np\n",
    "import pandas as pd\n",
    "import cvzone\n",
    "from PIL import Image \n",
    "\n",
    "model_path = 'animal-tryon/best.pt'\n",
    "keywords_file = \"animal-tryon/keypoint_definitions.csv\"\n",
    "# animal_img = 'animal-tryon/input/golden-retriever-puppy.jpg'\n",
    "animal_img = 'animal-tryon/images_data/frame_56.png'\n",
    "\n",
    "accessories_img = 'animal-tryon/accessories/hat1.png'\n",
    "result_png = 'png_result.png'\n",
    "\n",
    "\n",
    "ann_meta_data = pd.read_csv(keywords_file)\n",
    "COLORS = ann_meta_data[\"Hex colour\"].values.tolist()\n",
    "\n",
    "COLORS_RGB_MAP = []\n",
    "for color in COLORS:\n",
    "    R, G, B = int(color[:2], 16), int(color[2:4], 16), int(color[4:], 16)\n",
    "    COLORS_RGB_MAP.append({color: (R,G,B)})\n",
    "\n",
    "model = YOLO(model_path)\n",
    "\n",
    "BOX_IOU_THRESH = 0.55\n",
    "BOX_CONF_THRESH=0.30\n",
    "KPT_CONF_THRESH=0.68\n",
    "\n",
    "inc = 15\n",
    "\n",
    "\n",
    "\n",
    "animal_image = cv2.imread(animal_img)\n",
    "animal_image = cv2.cvtColor(animal_image, cv2.COLOR_BGR2RGB)\n",
    "\n",
    "results = model.predict(animal_img, conf=BOX_CONF_THRESH, iou=BOX_IOU_THRESH)[0].cpu()\n",
    "\n",
    "if not len(results.boxes.xyxy):\n",
    "    animal_image\n",
    "\n",
    "# Get the predicted boxes, conf scores and keypoints.\n",
    "pred_boxes = results.boxes.xyxy.numpy()\n",
    "pred_box_conf = results.boxes.conf.numpy()\n",
    "pred_kpts_xy = results.keypoints.xy.numpy()\n",
    "pred_kpts_conf = results.keypoints.conf.numpy()\n",
    "\n",
    "\n",
    "# Draw predicted bounding boxes, conf scores and keypoints on image.\n",
    "for boxes, score, kpts, confs in zip(pred_boxes, pred_box_conf, pred_kpts_xy, pred_kpts_conf):\n",
    "    kpts_ids = np.where(confs > KPT_CONF_THRESH)[0]\n",
    "    filter_kpts = kpts[kpts_ids]\n",
    "    filter_kpts = np.concatenate([filter_kpts, np.expand_dims(kpts_ids, axis=-1)], axis=-1)\n",
    "    \n",
    "    # filter_kpts = filter_kpts.astype(\"int\").tolist()\n",
    "    filter_kpts = [[int(x) for x in inner_list] for inner_list in filter_kpts]\n",
    "    print('******** old filter_kpts: ', filter_kpts)\n",
    "    # animal_image = draw_landmarks(animal_image, filter_kpts)\n",
    "    cap_wear_result = wear_cap(accessories_img, animal_image, filter_kpts)\n",
    "    # Check if the resulting image has valid dimensions\n",
    "    if cap_wear_result is not None and cap_wear_result.shape[0] > 0 and cap_wear_result.shape[1] > 0:\n",
    "        cv2.imshow(\"cap_wear_result\", cap_wear_result)\n",
    "        cv2.waitKey(0)\n",
    "        cv2.destroyAllWindows()\n",
    "    else:\n",
    "        print(\"Error: Invalid dimensions for the resulting image.\")\n",
    "\n",
    "        # print(\"********************* Neither 14 nor 15 exists.\")\n",
    "    ################ "
   ]
  },
  {
   "cell_type": "code",
   "execution_count": null,
   "id": "0770a12a-386f-40df-84a7-350cf175593b",
   "metadata": {},
   "outputs": [],
   "source": []
  },
  {
   "cell_type": "code",
   "execution_count": 1,
   "id": "fae352b9-3da4-434a-b4bd-81f14c8d978f",
   "metadata": {},
   "outputs": [
    {
     "data": {
      "image/png": "[encoded data removed]",
      "text/plain": [
       "<Figure size 640x480 with 1 Axes>"
      ]
     },
     "metadata": {},
     "output_type": "display_data"
    }
   ],
   "source": [
    "import matplotlib.pyplot as plt\n",
    "\n",
    "# Keypoints\n",
    "keypoint_14 = [427, 150, 14]\n",
    "keypoint_15 = [291, 163, 15]\n",
    "\n",
    "# Calculate the midpoint\n",
    "midpoint_x = (keypoint_14[0] + keypoint_15[0]) / 2\n",
    "midpoint_y = (keypoint_14[1] + keypoint_15[1]) / 2\n",
    "\n",
    "# Plot the keypoints\n",
    "plt.scatter(*zip(*[keypoint_14[:2], keypoint_15[:2]]), color='red', label='Keypoints')\n",
    "# Plot the midpoint\n",
    "plt.scatter(midpoint_x, midpoint_y, color='blue', label='Midpoint')\n",
    "\n",
    "# Connect the keypoints with a line\n",
    "plt.plot([keypoint_14[0], keypoint_15[0]], [keypoint_14[1], keypoint_15[1]], color='green', linestyle='--', label='Line between keypoints')\n",
    "\n",
    "# Add labels and legend\n",
    "plt.xlabel('X-axis')\n",
    "plt.ylabel('Y-axis')\n",
    "plt.legend()\n",
    "\n",
    "# Show the plot\n",
    "plt.show()\n"
   ]
  },
  {
   "cell_type": "code",
   "execution_count": null,
   "id": "06d8f208-8859-46cb-9fd2-29cdcbbb1252",
   "metadata": {},
   "outputs": [],
   "source": []
  }
 ],
 "metadata": {
  "kernelspec": {
   "display_name": "Python 3 (ipykernel)",
   "language": "python",
   "name": "python3"
  },
  "language_info": {
   "codemirror_mode": {
    "name": "ipython",
    "version": 3
   },
   "file_extension": ".py",
   "mimetype": "text/x-python",
   "name": "python",
   "nbconvert_exporter": "python",
   "pygments_lexer": "ipython3",
   "version": "3.11.5"
  }
 },
 "nbformat": 4,
 "nbformat_minor": 5
}
